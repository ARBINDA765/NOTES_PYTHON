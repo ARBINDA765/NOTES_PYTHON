{
 "cells": [
  {
   "cell_type": "code",
   "execution_count": 5,
   "metadata": {},
   "outputs": [],
   "source": [
    "#Dictionaries - a dictionary is an unordered set of key-value pairs\n",
    "\n",
    " #Values in a dictionary can be of any datatype and can be duplicated, whereas keys can’t be repeated and must be immutable.\n",
    "dict1 = {} #creating an empty dictionary\n"
   ]
  },
  {
   "cell_type": "code",
   "execution_count": 19,
   "metadata": {},
   "outputs": [],
   "source": [
    "\n",
    "\n",
    "\n",
    "\n",
    "var = {}\n",
    "#it works in pair\n",
    "\n",
    "#key:value\n",
    "    \n",
    "#var = {key1:value1 , key2:value2, key1: value3, key4:vaule4}"
   ]
  },
  {
   "cell_type": "code",
   "execution_count": 4,
   "metadata": {},
   "outputs": [
    {
     "data": {
      "text/plain": [
       "dict_items([('Vendor', 'Cisco'), ('Model', '2600'), ('IOS', '12.3'), ('RAM', '128')])"
      ]
     },
     "execution_count": 4,
     "metadata": {},
     "output_type": "execute_result"
    }
   ],
   "source": [
    "dict1 = {\"Vendor\": \"Cisco\", \"Model\": \"2600\", \"IOS\": \"12.4\", \"Ports\": \"4\"}\n",
    "\n",
    "dict1[\"IOS\"] #returns \"12.4\"; extracting a value for a specified key\n",
    " \n",
    "dict1[\"IOS\"] = \"12.3\" #modifies an existing key-value pair\n",
    " \n",
    "dict1[\"RAM\"] = \"128\" #adds a new key-value pair to the dictionary\n",
    " \n",
    "del dict1[\"Ports\"] #deleting a key-value pair from the dictionary\n",
    " \n",
    "len(dict1) #returns the number of key-value pairs in the dictionary\n",
    "\n",
    "\"IOS\" in dict1 #verifies if \"IOS\" is a key in the dictionary\n",
    " \n",
    "\"IOS2\" not in dict1 #verifies if \"IOS2\" is not a key in the dictionary\n",
    " \n",
    "#Dictionaries - methods\n",
    "print(dict1.keys())#returns a list having the keys in the dictionary as elements\n",
    " \n",
    "print(dict1.values()) #returns a list having the values in the dictionary as elements\n",
    " \n",
    "print(dict1.items()) #returns a list of tuples, each tuple containing the key and value of each dictionary pair\n"
   ]
  },
  {
   "cell_type": "code",
   "execution_count": 8,
   "metadata": {},
   "outputs": [
    {
     "data": {
      "text/plain": [
       "dict_items([('Vendor', 'Cisco'), ('Model', '2600'), ('IOS', '12.4'), ('Ports', '4')])"
      ]
     },
     "execution_count": 8,
     "metadata": {},
     "output_type": "execute_result"
    }
   ],
   "source": [
    "dict1.items()"
   ]
  },
  {
   "cell_type": "code",
   "execution_count": 10,
   "metadata": {},
   "outputs": [
    {
     "data": {
      "text/plain": [
       "'12.4'"
      ]
     },
     "execution_count": 10,
     "metadata": {},
     "output_type": "execute_result"
    }
   ],
   "source": [
    "dict1 = {\"Vendor\": \"Cisco\", \"Model\": \"2600\", \"IOS\": \"12.4\", \"Ports\": \"4\"}\n",
    "\n",
    "dict1[\"IOS\"] #returns \"12.4\"; extracting a value for a specified key"
   ]
  },
  {
   "cell_type": "code",
   "execution_count": 13,
   "metadata": {},
   "outputs": [
    {
     "name": "stdout",
     "output_type": "stream",
     "text": [
      "{'Vendor': 'Cisco', 'Model': '2600', 'IOS': '14', 'Ports': '4'}\n"
     ]
    }
   ],
   "source": [
    "dict1[\"IOS\"] = \"14\" #modifies an existing key-value pair\n",
    "\n",
    "print(dict1)"
   ]
  },
  {
   "cell_type": "code",
   "execution_count": 7,
   "metadata": {},
   "outputs": [
    {
     "data": {
      "text/plain": [
       "dict_values(['Cisco', '2600', '12.4', '4'])"
      ]
     },
     "execution_count": 7,
     "metadata": {},
     "output_type": "execute_result"
    }
   ],
   "source": [
    "dict1.values()"
   ]
  },
  {
   "cell_type": "code",
   "execution_count": 15,
   "metadata": {},
   "outputs": [
    {
     "name": "stdout",
     "output_type": "stream",
     "text": [
      "{'Vendor': 'Cisco', 'Model': '2600', 'IOS': '14', 'Ports': '4', 'RAM': '128'}\n"
     ]
    }
   ],
   "source": [
    "dict1[\"RAM\"] = \"128\" #adds a new key-value pair to the dictionary\n",
    "\n",
    "print(dict1)"
   ]
  },
  {
   "cell_type": "code",
   "execution_count": 9,
   "metadata": {},
   "outputs": [
    {
     "name": "stdout",
     "output_type": "stream",
     "text": [
      "\n",
      "Dictionary with the use of Mixed Keys: \n",
      "{'Name': 'ABC', 'Age': [1, 2, 3, 4]}\n"
     ]
    }
   ],
   "source": [
    "# Creating a Dictionary  \n",
    "# with Mixed keys \n",
    "Dict = {'Name': 'ABC', 'Age': [1, 2, 3, 4]} \n",
    "\n",
    "\n",
    "\n",
    "print(\"\\nDictionary with the use of Mixed Keys: \") \n",
    "print(Dict) "
   ]
  },
  {
   "cell_type": "code",
   "execution_count": null,
   "metadata": {},
   "outputs": [],
   "source": []
  }
 ],
 "metadata": {
  "kernelspec": {
   "display_name": "Python 3",
   "language": "python",
   "name": "python3"
  },
  "language_info": {
   "codemirror_mode": {
    "name": "ipython",
    "version": 3
   },
   "file_extension": ".py",
   "mimetype": "text/x-python",
   "name": "python",
   "nbconvert_exporter": "python",
   "pygments_lexer": "ipython3",
   "version": "3.7.9"
  }
 },
 "nbformat": 4,
 "nbformat_minor": 2
}
