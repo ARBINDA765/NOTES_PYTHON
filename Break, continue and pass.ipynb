{
 "cells": [
  {
   "cell_type": "code",
   "execution_count": 10,
   "metadata": {},
   "outputs": [
    {
     "name": "stdout",
     "output_type": "stream",
     "text": [
      "4\n",
      "5\n",
      "6\n",
      "11\n",
      "90\n",
      "black\n"
     ]
    }
   ],
   "source": [
    "#stops the execution here, ignores the print statement below and completely quits THIS \"for\" loop; \n",
    "list1 = [4, 5, 6,11,90,'black',123,56,7]\n",
    "\n",
    "for i in list1:\n",
    "    print(i)\n",
    "    if i =='black':\n",
    "        break\n",
    "        \n",
    "\n",
    "   "
   ]
  },
  {
   "cell_type": "code",
   "execution_count": 13,
   "metadata": {},
   "outputs": [
    {
     "name": "stdout",
     "output_type": "stream",
     "text": [
      "4\n",
      "5\n",
      "90\n",
      "123\n",
      "56\n",
      "7\n"
     ]
    }
   ],
   "source": [
    "#ignores the rest of the code below for the current iteration, then goes up to the top of the loop and starts the next iteration\n",
    "list1 = [4, 5,90,123,56,7]\n",
    "\n",
    "for i in list1:\n",
    "    print(i)\n",
    "    if i ==90:\n",
    "        continue\n",
    "    \n",
    "    "
   ]
  },
  {
   "cell_type": "code",
   "execution_count": 12,
   "metadata": {},
   "outputs": [
    {
     "name": "stdout",
     "output_type": "stream",
     "text": [
      "23 is greater then 21\n"
     ]
    }
   ],
   "source": [
    "var1 = 23\n",
    "var2 = 21\n",
    "if var1 > var2 :\n",
    "    print(\"{} is greater then {}\".format(var1,var2))\n",
    "else:\n",
    "    pass"
   ]
  },
  {
   "cell_type": "code",
   "execution_count": 4,
   "metadata": {},
   "outputs": [],
   "source": [
    "#pass is the equivalent of \"do nothing\"; it is a placeholder for when you just want to write a piece of code that you will treat later\n",
    "for i in range(10):\n",
    "    pass \n",
    "\n",
    "if cpu >90:\n",
    "    pass\n",
    "\n",
    "\n",
    "\n",
    "    "
   ]
  },
  {
   "cell_type": "code",
   "execution_count": 18,
   "metadata": {},
   "outputs": [
    {
     "ename": "SyntaxError",
     "evalue": "(unicode error) 'unicodeescape' codec can't decode bytes in position 2-3: truncated \\UXXXXXXXX escape (<ipython-input-18-c3f8583c2005>, line 1)",
     "output_type": "error",
     "traceback": [
      "\u001b[1;36m  File \u001b[1;32m\"<ipython-input-18-c3f8583c2005>\"\u001b[1;36m, line \u001b[1;32m1\u001b[0m\n\u001b[1;33m    print(\"C:\\Users\\ekuswat\\Desktop\\test.txt\")\u001b[0m\n\u001b[1;37m         ^\u001b[0m\n\u001b[1;31mSyntaxError\u001b[0m\u001b[1;31m:\u001b[0m (unicode error) 'unicodeescape' codec can't decode bytes in position 2-3: truncated \\UXXXXXXXX escape\n"
     ]
    }
   ],
   "source": [
    "print(\"C:\\\\Users\\\\ekuswat\\\\Desktop\\\\test.txt\")"
   ]
  },
  {
   "cell_type": "code",
   "execution_count": 19,
   "metadata": {},
   "outputs": [
    {
     "name": "stdout",
     "output_type": "stream",
     "text": [
      "C:\\Users\\ekuswat\\Desktop\\test.txt\n"
     ]
    }
   ],
   "source": [
    "print(r\"C:\\Users\\ekuswat\\Desktop\\test.txt\")"
   ]
  },
  {
   "cell_type": "code",
   "execution_count": null,
   "metadata": {},
   "outputs": [],
   "source": [
    " (command)"
   ]
  },
  {
   "cell_type": "code",
   "execution_count": null,
   "metadata": {},
   "outputs": [],
   "source": []
  },
  {
   "cell_type": "code",
   "execution_count": null,
   "metadata": {},
   "outputs": [],
   "source": []
  }
 ],
 "metadata": {
  "kernelspec": {
   "display_name": "Python 3",
   "language": "python",
   "name": "python3"
  },
  "language_info": {
   "codemirror_mode": {
    "name": "ipython",
    "version": 3
   },
   "file_extension": ".py",
   "mimetype": "text/x-python",
   "name": "python",
   "nbconvert_exporter": "python",
   "pygments_lexer": "ipython3",
   "version": "3.7.9"
  }
 },
 "nbformat": 4,
 "nbformat_minor": 2
}
