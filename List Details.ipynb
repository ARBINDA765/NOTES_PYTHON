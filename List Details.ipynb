{
 "cells": [
  {
   "cell_type": "markdown",
   "metadata": {},
   "source": [
    "# STRING!"
   ]
  },
  {
   "cell_type": "code",
   "execution_count": 1,
   "metadata": {},
   "outputs": [],
   "source": [
    "my_str='Arabinda123'\n"
   ]
  },
  {
   "cell_type": "code",
   "execution_count": 2,
   "metadata": {},
   "outputs": [
    {
     "name": "stdout",
     "output_type": "stream",
     "text": [
      "True\n",
      "False\n",
      "False\n",
      "True\n",
      "False\n",
      "False\n",
      "False\n",
      "False\n",
      "False\n"
     ]
    }
   ],
   "source": [
    "print(my_str.isalnum()) #check if all char are numbers\n",
    "print(my_str.isalpha()) #check if all char in the string are alphabetic\n",
    "print(my_str.isdigit()) #test if string contains digits\n",
    "print(my_str.istitle()) #test if string contains title words\n",
    "print(my_str.isupper()) #test if string contains upper case\n",
    "print(my_str.islower()) #test if string contains lower case\n",
    "print(my_str.isspace()) #test if string contains spaces\n",
    "print(my_str.endswith('k')) #test if string endswith a d\n",
    "print(my_str.startswith('K')) #test if string startswith H"
   ]
  },
  {
   "cell_type": "markdown",
   "metadata": {},
   "source": [
    "# Boolean and Logical Operators"
   ]
  },
  {
   "cell_type": "code",
   "execution_count": 3,
   "metadata": {},
   "outputs": [
    {
     "data": {
      "text/plain": [
       "True"
      ]
     },
     "execution_count": 3,
     "metadata": {},
     "output_type": "execute_result"
    }
   ],
   "source": [
    "True and True"
   ]
  },
  {
   "cell_type": "code",
   "execution_count": 4,
   "metadata": {},
   "outputs": [
    {
     "data": {
      "text/plain": [
       "True"
      ]
     },
     "execution_count": 4,
     "metadata": {},
     "output_type": "execute_result"
    }
   ],
   "source": [
    "True or False"
   ]
  },
  {
   "cell_type": "code",
   "execution_count": 5,
   "metadata": {},
   "outputs": [
    {
     "data": {
      "text/plain": [
       "False"
      ]
     },
     "execution_count": 5,
     "metadata": {},
     "output_type": "execute_result"
    }
   ],
   "source": [
    "True and False"
   ]
  },
  {
   "cell_type": "code",
   "execution_count": 6,
   "metadata": {},
   "outputs": [],
   "source": [
    "str_example='Hello World'\n",
    "my_str='Arabinda'"
   ]
  },
  {
   "cell_type": "code",
   "execution_count": 7,
   "metadata": {},
   "outputs": [
    {
     "data": {
      "text/plain": [
       "True"
      ]
     },
     "execution_count": 7,
     "metadata": {},
     "output_type": "execute_result"
    }
   ],
   "source": [
    "\n",
    "my_str.isalpha() or str_example.isnum()"
   ]
  },
  {
   "cell_type": "raw",
   "metadata": {},
   "source": [
    " #Lists need not be homogeneous always which makes \n",
    " it a most powerful tool in Python. \n",
    "#A single list may contain DataTypes like Integers,\n",
    "Strings, as well as Objects. \n",
    "#Lists in Python can be created by just \n",
    "placing the sequence inside the square brackets[]\n"
   ]
  },
  {
   "cell_type": "code",
   "execution_count": 2,
   "metadata": {},
   "outputs": [],
   "source": [
    "#Creating a blank list\n",
    "list=[]\n",
    "print(\"Blank list\")"
   ]
  },
  {
   "cell_type": "code",
   "execution_count": 3,
   "metadata": {},
   "outputs": [
    {
     "name": "stdout",
     "output_type": "stream",
     "text": [
      "list with elements\n",
      " [1, 2, 3, 4]\n"
     ]
    }
   ],
   "source": [
    "list=[1,2,3,4]\n",
    "print(\"list with elements\\n\",list)"
   ]
  },
  {
   "cell_type": "code",
   "execution_count": 4,
   "metadata": {},
   "outputs": [
    {
     "data": {
      "text/plain": [
       "1"
      ]
     },
     "execution_count": 4,
     "metadata": {},
     "output_type": "execute_result"
    }
   ],
   "source": [
    "#Accesing the elemnts by index\n",
    "list[0]"
   ]
  },
  {
   "cell_type": "code",
   "execution_count": 5,
   "metadata": {},
   "outputs": [
    {
     "data": {
      "text/plain": [
       "2"
      ]
     },
     "execution_count": 5,
     "metadata": {},
     "output_type": "execute_result"
    }
   ],
   "source": [
    "list[1]"
   ]
  },
  {
   "cell_type": "code",
   "execution_count": 8,
   "metadata": {},
   "outputs": [],
   "source": [
    "# Creating a Multi-Dimensional List \n",
    "#nested list with heterogenious data\n",
    "list=[[1,2,3],[\"IAF,INDIAN\"]]"
   ]
  },
  {
   "cell_type": "code",
   "execution_count": 10,
   "metadata": {},
   "outputs": [
    {
     "name": "stdout",
     "output_type": "stream",
     "text": [
      "2\n",
      "size of the list is : 2\n"
     ]
    }
   ],
   "source": [
    "#Knowing the size of List\n",
    "list=[[1,2,3],[\"IAF,INDIAN\"]]\n",
    "print(len(list))\n",
    "s=[[],[]]\n",
    "print(\"size of the list is :\",len(s))\n"
   ]
  },
  {
   "cell_type": "code",
   "execution_count": 18,
   "metadata": {},
   "outputs": [
    {
     "data": {
      "text/plain": [
       "[1, 'ram', 'shyam', 0.6, -9, 100, 'ARMY', -9]"
      ]
     },
     "execution_count": 18,
     "metadata": {},
     "output_type": "execute_result"
    }
   ],
   "source": [
    "#Adding Elements to a List\n",
    "#by using append() we can append an element to the exiting list\n",
    "#by the help of For loop we can add multiple elements to the exiting list\n",
    "a=[1,\"ram\",\"shyam\",0.6,-9]\n",
    "a.append(100)\n",
    "a.append(\"ARMY\")\n",
    "a.append(-9)\n",
    "a"
   ]
  },
  {
   "cell_type": "code",
   "execution_count": 26,
   "metadata": {},
   "outputs": [
    {
     "name": "stdout",
     "output_type": "stream",
     "text": [
      "[1, 'ram', 'shyam', 0.6, -9, 100, 'ARMY', -9, 'PAK', 'CHINA', 'USA', 'MIG21', 'PAK', 'CHINA', 'USA', 'MIG21', 'PAK', 'CHINA', 'USA', 'MIG21', 'PAK', 'CHINA', 'USA', 'MIG21', 'PAK', 'CHINA', 'USA', 'MIG21']\n"
     ]
    }
   ],
   "source": [
    "#Addding all the elemnts of one list to another list\n",
    "#Append() will add the end of the elemets\n",
    "b=[\"PAK\",\"CHINA\",\"USA\",\"MIG21\"]\n",
    "for i in b:\n",
    "    a.append(i)\n",
    "print(a)\n"
   ]
  },
  {
   "cell_type": "code",
   "execution_count": 29,
   "metadata": {},
   "outputs": [
    {
     "name": "stdout",
     "output_type": "stream",
     "text": [
      "\n",
      "List after performing Insert Operation: \n"
     ]
    },
    {
     "data": {
      "text/plain": [
       "[1, 2, 3, 'COVID!19', 4, 'ram', 'shaym']"
      ]
     },
     "execution_count": 29,
     "metadata": {},
     "output_type": "execute_result"
    }
   ],
   "source": [
    "#Using insert() method\n",
    "#insert method will help us to add in our desied location by the help of the index\n",
    "#insert() method requires two arguments(position, value).\n",
    "x=[1,2,3,4,\"ram\",\"shaym\"]\n",
    "print(\"\\nList after performing Insert Operation: \")\n",
    "x.insert(3,\"COVID!19\")\n",
    "x\n"
   ]
  },
  {
   "cell_type": "code",
   "execution_count": 33,
   "metadata": {},
   "outputs": [
    {
     "name": "stdout",
     "output_type": "stream",
     "text": [
      "\n",
      "Initial List: \n",
      "[1, 2, 3, 4, 'ram', 'shaym']\n",
      "\n",
      "List after performing extend Operation i.e multiple elemnts at the end of list \n",
      "[1, 2, 3, 4, 'ram', 'shaym', ['Extend', -9.7], [100, 1000, 19, 20]]\n"
     ]
    }
   ],
   "source": [
    "#Extend() method to insert elements\n",
    "#method is used to add multiple elements at the same time at the end of the list.\n",
    "print(\"\\nInitial List: \") \n",
    "x=[1,2,3,4,\"ram\",\"shaym\"]\n",
    "print(x)\n",
    "print(\"\\nList after performing extend Operation i.e multiple elemnts at the end of list \")\n",
    "x.extend([[\"Extend\",-9.7],[100,1000,19,20]])\n",
    "print(x)\n"
   ]
  },
  {
   "cell_type": "code",
   "execution_count": 47,
   "metadata": {},
   "outputs": [
    {
     "name": "stdout",
     "output_type": "stream",
     "text": [
      "Acessing a element from a Multi-Dimensional list\n"
     ]
    },
    {
     "data": {
      "text/plain": [
       "['Extend', -9.7]"
      ]
     },
     "execution_count": 47,
     "metadata": {},
     "output_type": "execute_result"
    }
   ],
   "source": [
    "#Accessing elements from the List\n",
    "#[] by this we can accessing the list\n",
    "x=[1, 2, 3, 4, 'ram', 'shaym', ['Extend', -9.7], [100, 1000, 19, 20]]\n",
    "#accesing the mulidimensional list\n",
    "print(\"Acessing a element from a Multi-Dimensional list\")\n",
    "x[[6][0]]\n"
   ]
  },
  {
   "cell_type": "code",
   "execution_count": 46,
   "metadata": {},
   "outputs": [
    {
     "name": "stdout",
     "output_type": "stream",
     "text": [
      "Negative indexing \n",
      "\n",
      "100\n"
     ]
    }
   ],
   "source": [
    "#Negative indexing\n",
    "#Nested list indexing by [] with negative index\n",
    "print(\"Negative indexing \\n\")\n",
    "print(x[-1][0])"
   ]
  },
  {
   "cell_type": "markdown",
   "metadata": {},
   "source": [
    "# Removing Elements from the List"
   ]
  },
  {
   "cell_type": "code",
   "execution_count": 51,
   "metadata": {},
   "outputs": [
    {
     "name": "stdout",
     "output_type": "stream",
     "text": [
      "Intial List: \n",
      " [1, 2, 3, 4, 'ram', 'shaym', ['Extend', -9.7], [100, 1000, 19, 20]]\n",
      "Removing a string\n",
      "Removing a integer\n",
      "Finally after removing elements  \n",
      " [2, 3, 4, 'shaym', ['Extend', -9.7], [100, 1000, 19, 20]]\n"
     ]
    }
   ],
   "source": [
    "#Remove element only remove the first occurance of the element in the list\n",
    "#Remove will throws an error if the element is not present in the list\n",
    "#By the help of iterator we can remove multiple elements from the list\n",
    "#For the single element remove will work in a single instance\n",
    "# Removing elements from List \n",
    "# using Remove() method \n",
    "\n",
    "x=[1, 2, 3, 4, 'ram', 'shaym', ['Extend', -9.7], [100, 1000, 19, 20]]\n",
    "print(\"Intial List: \\n\",x)\n",
    "print(\"Removing a string\")\n",
    "x.remove('ram')\n",
    "\n",
    "print(\"Removing a integer\")\n",
    "x.remove(1)\n",
    "print(\"Finally after removing elements  \\n\",x)"
   ]
  },
  {
   "cell_type": "code",
   "execution_count": 62,
   "metadata": {},
   "outputs": [
    {
     "name": "stdout",
     "output_type": "stream",
     "text": [
      "Initial list\n",
      " [1, 2, 3, 4, 5, 6, 7, 8, 9, 10, 11, 12]\n",
      "\n",
      "List after Removing a range of elements: \n",
      "[5, 6, 7, 8, 9, 10, 11, 12]\n",
      "directly by the help of element we can remove \n"
     ]
    }
   ],
   "source": [
    "b=[1, 2, 3, 4, 5, 6,7, 8, 9, 10, 11, 12]\n",
    "print(\"Initial list\\n\",b)\n",
    "#Removing elements from List \n",
    "# using iterator method \n",
    "for i in range(1, 5):\n",
    "    b.remove(i) \n",
    "print(\"\\nList after Removing a range of elements: \") \n",
    "print(b) \n",
    "print(\"directly by the help of element we can remove \")"
   ]
  },
  {
   "cell_type": "code",
   "execution_count": 4,
   "metadata": {},
   "outputs": [
    {
     "name": "stdout",
     "output_type": "stream",
     "text": [
      "Initial list\t \n",
      " [1, 2, 3, 4, 'ram', 'shaym', ['Extend', -9.7], [100, 1000, 19, 20]]\n",
      "\n",
      "List after popping an element: \n",
      "[1, 2, 3, 4, 'ram', 'shaym', ['Extend', -9.7]]\n",
      "pop will delwlte the item by inedx number\n"
     ]
    },
    {
     "data": {
      "text/plain": [
       "4"
      ]
     },
     "execution_count": 4,
     "metadata": {},
     "output_type": "execute_result"
    }
   ],
   "source": [
    "#Using pop() method\n",
    "x=[1, 2, 3, 4, 'ram', 'shaym', ['Extend', -9.7], [100, 1000, 19, 20]]\n",
    "print(\"Initial list\\t \\n\" ,x)\n",
    "\n",
    "x.pop()\n",
    "print(\"\\nList after popping an element: \") \n",
    "print(x) \n",
    "print(\"pop will delwlte the item by inedx number\")\n",
    "x[1:4].pop()\n"
   ]
  },
  {
   "cell_type": "markdown",
   "metadata": {},
   "source": [
    "# Slicing of a List\n"
   ]
  },
  {
   "cell_type": "code",
   "execution_count": 88,
   "metadata": {},
   "outputs": [
    {
     "name": "stdout",
     "output_type": "stream",
     "text": [
      "Full list\n",
      "[1, 2, 3, 4, 5, 6, 7, 8]\n",
      "from index 2 to till last index \n",
      "[3, 4, 5, 6, 7, 8]\n",
      "Reverse the list\n",
      "[8, 7, 6, 5, 4, 3, 2, 1]\n",
      "from negative index i.e: from -1 index to -4\n",
      "[]\n",
      "from negative index i.e: from -4 index to -1\n",
      "[5, 6, 7]\n",
      "from negative index i.e: from -7 index to -2\n",
      "[2, 3, 4, 5, 6]\n",
      "from negative index i.e: from 2 index to 7\n",
      "[3, 4, 5, 6, 7]\n",
      "from negative index i.e: from 4 index to 1\n",
      "[]\n",
      "from negative index i.e: from 1 index to 4\n",
      "[2, 3, 4]\n"
     ]
    }
   ],
   "source": [
    "#To slice the elements [Start Index:End Index]\n",
    "#to print the whole List with the use of slicing operation, use [:]\n",
    "#. Further, to print the whole List in reverse order, use [::-1]\n",
    "x=[1,2,3,4,5,6,7,8]\n",
    "print(\"Full list\")\n",
    "print(x[:])\n",
    "print(\"from index 2 to till last index \")\n",
    "print(x[2:])\n",
    "print(\"Reverse the list\")\n",
    "print(x[::-1])\n",
    "print(\"from negative index i.e: from -1 index to -4\")\n",
    "print(x[-1:-4])\n",
    "print(\"from negative index i.e: from -4 index to -1\")\n",
    "print(x[-4:-1])\n",
    "print(\"from negative index i.e: from -7 index to -2\")\n",
    "print(x[-7:-2])\n",
    "print(\"from negative index i.e: from 2 index to 7\")\n",
    "print(x[2:7])\n",
    "print(\"from negative index i.e: from 4 index to 1\")\n",
    "print(x[4:1])\n",
    "print(\"from negative index i.e: from 1 index to 4\")\n",
    "print(x[1:4])\n",
    "\n",
    "\n",
    "\n"
   ]
  },
  {
   "cell_type": "code",
   "execution_count": 80,
   "metadata": {},
   "outputs": [
    {
     "data": {
      "text/plain": [
       "[]"
      ]
     },
     "execution_count": 80,
     "metadata": {},
     "output_type": "execute_result"
    }
   ],
   "source": [
    "#During the negative index assigning the index starts from right to left but  calculation will  left to right "
   ]
  },
  {
   "cell_type": "code",
   "execution_count": 89,
   "metadata": {},
   "outputs": [
    {
     "data": {
      "text/plain": [
       "[3, 4, 5]"
      ]
     },
     "execution_count": 89,
     "metadata": {},
     "output_type": "execute_result"
    }
   ],
   "source": [
    "#Methods\n",
    "Append()\tAdd an element to the end of the list\n",
    "Extend()\tAdd all elements of a list to the another list\n",
    "Insert()\tInsert an item at the defined index\n",
    "Remove()\tRemoves an item from the list(By the help of element)\n",
    "Pop()\tRemoves and returns an element at the given index\n",
    "del[a : b] :- This method deletes all the elements in range starting from index ‘a’ till ‘b’ mentioned in arguments.\n",
    "Clear()\tRemoves all items from the list\n",
    "------------------------------------------------\n",
    "list_name.index(element,start postion,end position)\n",
    "start-Index number from where u want to start search\n",
    "End--Index number from where u want to stop search\n",
    "---------------------------------------------------------------------\n",
    "count--It will count the coccurance of the element inside a list\n",
    "we can slice a the list and then count within that slicing \n",
    "---------------------------------------------------------------------\n",
    "\n",
    "\n",
    "\n"
   ]
  },
  {
   "cell_type": "code",
   "execution_count": 28,
   "metadata": {},
   "outputs": [
    {
     "name": "stdout",
     "output_type": "stream",
     "text": [
      "*********************************************\n",
      "initial list \n",
      " [-9, -3.5, -1, 0, 1, 2, 3]\n",
      "Place all the elements in descending order\n",
      "[-9, -3.5, -1, 0, 1, 2, 3]\n",
      "Place all the elements in ascending order\n",
      "[-9, -3.5, -1, 0, 1, 2, 3]\n",
      "*********************************************\n"
     ]
    }
   ],
   "source": [
    "#sort() in Python\n",
    "print(\"*\"*45)\n",
    "\n",
    "#The sort function can be used to sort the list in both ascending and descending order.\n",
    "#List_name.sort()\n",
    "print(\"initial list \\n\",s)\n",
    "s=[1,2,3,-1,-9,-3.5,0]\n",
    "print(\"Place all the elements in descending order\")\n",
    "s.sort(reverse=False)\n",
    "print(s)\n",
    "print(\"Place all the elements in ascending order\")\n",
    "s=[1,2,3,-1,-9,-3.5,0]\n",
    "s.sort(reverse=False)#by default =True in ascending order\n",
    "print(s)\n",
    "print(\"*\"*45)\n",
    "#Can not reverse both numer and string(not possible to do on heterogenious data)"
   ]
  },
  {
   "cell_type": "raw",
   "metadata": {},
   "source": [
    "#Python list | copy() method\n",
    "> Any modification to the new list(newlist=list_name.copy()) will not effect on old list ,hence it is a shallow copy\n",
    ">  list.copy()\n",
    "Parameters :\n",
    "None\n",
    "Returns :\n",
    "Returns a shallow copy of a list.\n",
    ">Deep Copy vs Shallow copy : An Analysis\n",
    "\n",
    ">Deep copy means if we modify any of the list, changes are reflected in both the list as they point to the same reference. >Whereas in shallow copy, when we add element in any of the list, only that list is modified."
   ]
  },
  {
   "cell_type": "code",
   "execution_count": 35,
   "metadata": {},
   "outputs": [
    {
     "name": "stdout",
     "output_type": "stream",
     "text": [
      "No effect on new list even if u have deleted 3 from old_list ,\n",
      " final result is  ['shyam', 'ram', 'hari', 1, 2, 3, 3, 3]\n"
     ]
    }
   ],
   "source": [
    "old_list=[\"shyam\",\"ram\",\"hari\",1,2,3,3,3]\n",
    "new_list=old_list.copy()\n",
    "old_list.pop()\n",
    "print(\"No effect on new list even if u have deleted 3 from old_list ,\\n final result is \",new_list)"
   ]
  },
  {
   "cell_type": "raw",
   "metadata": {},
   "source": [
    ">Deep Copy vs Shallow copy : An Analysis\n",
    "\n",
    ">Deep copy means if we modify any of the list, changes are reflected in both the list as they point to the same reference. Whereas in shallow copy, when we add element in any of the list, only that list is modified.\n",
    "\n",
    ">Techniques to shallow copy :\n",
    "\n",
    "Using copy.copy()\n",
    "Using list.copy()\n",
    "Using slicing\n",
    ">Techniques to deep copy :\n",
    "Using copy.deepcopy()\n",
    "Using “=” operator\n",
    "\n",
    ">\n"
   ]
  },
  {
   "cell_type": "markdown",
   "metadata": {},
   "source": [
    "# Enumerate() in Python"
   ]
  },
  {
   "cell_type": "raw",
   "metadata": {},
   "source": [
    "#Assiging a counter to the element of the iterating object\n",
    "> Enumerate() method adds a counter to an iterable and returns it in a form of enumerate object\n",
    ">enumerate(iterable, start=0)\n",
    "\n",
    "Parameters:\n",
    "Iterable: any object that supports iteration\n",
    "Start: the index value from which the counter is \n",
    "              to be started, by default it is 0\n",
    "              "
   ]
  },
  {
   "cell_type": "code",
   "execution_count": 40,
   "metadata": {},
   "outputs": [
    {
     "name": "stdout",
     "output_type": "stream",
     "text": [
      "(0, 1)\n",
      "(1, 2)\n",
      "(2, 3)\n",
      "(3, 4)\n",
      "*********************************************\n",
      "(98, 'RAM')\n",
      "(99, 'SHYAM')\n"
     ]
    }
   ],
   "source": [
    "L1=[1,2,3,4]\n",
    "L2=[\"RAM\",\"SHYAM\"]\n",
    "for i in enumerate(L1):\n",
    "    print(i)\n",
    "    \n",
    "print(\"*\"*45)\n",
    "\n",
    "for i in enumerate(L2,98):#start=98 means it will start from 98 instead of 0 (default is 0)\n",
    "    print(i)"
   ]
  },
  {
   "cell_type": "markdown",
   "metadata": {},
   "source": [
    "# Any All in Python"
   ]
  },
  {
   "cell_type": "raw",
   "metadata": {},
   "source": [
    ">Any means Returns true if any of the items is True\n",
    ">All Returns true if all of the items are True (or if the iterable is empty\n",
    ">\n",
    "Syntax : all(list of iterables)# Work like and function \n",
    ">\n",
    "Syntax : any(list of iterables)# Work like OR function\n",
    ">\n"
   ]
  },
  {
   "cell_type": "markdown",
   "metadata": {},
   "source": [
    "# cmp(list) method"
   ]
  },
  {
   "cell_type": "raw",
   "metadata": {},
   "source": [
    "# Syntax : cmp(list1, list2)\n",
    "#this is in pyhon 2.6 not in 3\n",
    "\n",
    ">Parameters :\n",
    "list1 : The first argument list to be compared.\n",
    "list2 : The second argument list to be compared.\n",
    "\n",
    ">Returns : This function returns 1, if first list is “greater” than second list, -1 if first list is smaller than the second list else it returns 0 if both the lists are equal"
   ]
  },
  {
   "cell_type": "code",
   "execution_count": null,
   "metadata": {},
   "outputs": [],
   "source": []
  }
 ],
 "metadata": {
  "kernelspec": {
   "display_name": "Python 3",
   "language": "python",
   "name": "python3"
  },
  "language_info": {
   "codemirror_mode": {
    "name": "ipython",
    "version": 3
   },
   "file_extension": ".py",
   "mimetype": "text/x-python",
   "name": "python",
   "nbconvert_exporter": "python",
   "pygments_lexer": "ipython3",
   "version": "3.8.1"
  }
 },
 "nbformat": 4,
 "nbformat_minor": 4
}
