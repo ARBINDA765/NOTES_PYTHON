{
 "cells": [
  {
   "cell_type": "markdown",
   "metadata": {},
   "source": [
    "# Python Dictionary"
   ]
  },
  {
   "cell_type": "raw",
   "metadata": {},
   "source": [
    ">Dictionary will be always in key:value pair\n",
    "    >Values can be duplicate but key will always unique (Key is case senstive means with different cases it will consider as a seperate)\n",
    "    >Key will always immutuable.\n",
    "    > a Dictionary can be created by placing sequence of elements within curly {} braces, \n",
    "    >Values in a dictionary can be of any datatype\n",
    "\n",
    "        "
   ]
  },
  {
   "cell_type": "code",
   "execution_count": 34,
   "metadata": {},
   "outputs": [
    {
     "name": "stdout",
     "output_type": "stream",
     "text": [
      "Empty Dictionary: \n",
      "{}\n",
      "****************************************\n",
      "Initial Dict\n",
      "{100: 'A', 101: 'B', 102: 'C'}\n",
      "After that new key got added\n",
      "{100: 'A', 101: 'B', 102: 'C', 0: 'x'}\n",
      "****************************************\n",
      "After the update of values of the key 100\n",
      "{100: 'ICC', 101: 'B', 102: 'C', 0: 'x'}\n",
      "Adding nested dict to the exiting dict \n",
      "**********************************************************************\n",
      "{100: 'ICC', 101: 'B', 102: 'C', 0: 'x', 9999: {'House': 'BTM', 'HOME': 'BLS', 'PIN': 756001}}\n",
      "**********************************************************************\n",
      "Adding a list to the exiting dict\n",
      "{100: 'ICC', 101: 'B', 102: 'C', 0: 'x', 9999: {'House': 'BTM', 'HOME': 'BLS', 'PIN': 756001}, 777: {'COUNTRY': ['USA', 'INDIA'], 'PASSPORT': ['INDIAN', 'ISRAL'], 'RESIDENCE': ('USA', 'ppp')}}\n"
     ]
    }
   ],
   "source": [
    "#Example of dict\n",
    "# Creating a Dictionary  \n",
    "# with Mixed keys \n",
    "dict={'Engineer':\"Arabinda\",\"Coder\":[\"Programmer\",\"DataEngineer\"]}\n",
    "type(dict)\n",
    "# Creating an empty Dictionary \n",
    "Dict1 = {} \n",
    "print(\"Empty Dictionary: \") \n",
    "print(Dict1)\n",
    "#Multiple element\n",
    "print(\"*\"*40)\n",
    "print(\"Initial Dict\")\n",
    "a = {100:\"A\",101:\"B\",102:\"C\"}\n",
    "print(a)\n",
    "#Assigning a key to the exiting Dict in that case if the key is not found ,it will add to the exiting  dict\n",
    "a[0]=\"x\"\n",
    "print(\"After that new key got added\")\n",
    "print(a)\n",
    "#Updating the exiting values with the mapped keys\n",
    "a[100]=\"ICC\"\n",
    "print(\"*\"*40)\n",
    "print(\"After the update of values of the key 100\")\n",
    "print(a)\n",
    "print(\"Adding nested dict to the exiting dict \")\n",
    "print(\"*\"*70)\n",
    "a[9999]={\"House\":\"BTM\",\"HOME\":\"BLS\",\"PIN\":756001}\n",
    "print(a)\n",
    "print(\"*\"*70)\n",
    "print(\"Adding a list to the exiting dict\")\n",
    "#Possible add a set& list in the values section to the exiting dict\n",
    "#Not possible to add the key as set or list to the exiting dict\n",
    "a[777]={\"COUNTRY\":[\"USA\",\"INDIA\"],\"PASSPORT\":[\"INDIAN\",\"ISRAL\"],\"RESIDENCE\":(\"USA\",\"ppp\")}\n",
    "print(\"*\"*70)\n",
    "\n",
    "print(a)\n",
    "\n",
    "\n",
    "\n",
    "\n",
    "\n"
   ]
  },
  {
   "cell_type": "code",
   "execution_count": 40,
   "metadata": {},
   "outputs": [
    {
     "name": "stdout",
     "output_type": "stream",
     "text": [
      "Accessing a element using key:\n",
      "x\n",
      "**********************************************************************\n",
      "Get() method will help us to extract the same\n",
      "x\n"
     ]
    }
   ],
   "source": [
    "#Accessing elements from a Dictionary\n",
    "#In order to access the items of a dictionary refer to its key name.Key can be used inside square brackets\n",
    "\n",
    "# Python program to demonstrate   \n",
    "# accessing a element from a Dictionary  \n",
    "print(\"Accessing a element using key:\") \n",
    "a={100: 'ICC', 101: 'B', 102: 'C', 0: 'x', 9999: {'House': 'BTM', 'HOME': 'BLS', 'PIN': 756001}, 777: {'COUNTRY': ['USA', 'INDIA'], 'PASSPORT': ['INDIAN', 'ISRAL'], 'RESIDENCE': ('USA', 'ppp')}}\n",
    "print(a[0])\n",
    "print(\"*\"*70)\n",
    "#Get() method will help us to extract the same\n",
    "print(\"Get() method will help us to extract the same\")\n",
    "print(a.get(0))\n"
   ]
  },
  {
   "cell_type": "markdown",
   "metadata": {},
   "source": [
    "# Removing Elements from Dictionary"
   ]
  },
  {
   "cell_type": "code",
   "execution_count": 41,
   "metadata": {},
   "outputs": [],
   "source": [
    "#>using del whole dict can be deleted as well as particially is also possible\n",
    "a={100: 'ICC', 101: 'B', 102: 'C', 0: 'x', 9999: {'House': 'BTM', 'HOME': 'BLS', 'PIN': 756001}, 777: {'COUNTRY': ['USA', 'INDIA'], 'PASSPORT': ['INDIAN', 'ISRAL'], 'RESIDENCE': ('USA', 'ppp')}}\n"
   ]
  },
  {
   "cell_type": "code",
   "execution_count": 42,
   "metadata": {},
   "outputs": [],
   "source": [
    "del a[0]#delete the key "
   ]
  },
  {
   "cell_type": "code",
   "execution_count": 45,
   "metadata": {},
   "outputs": [
    {
     "data": {
      "text/plain": [
       "'B'"
      ]
     },
     "execution_count": 45,
     "metadata": {},
     "output_type": "execute_result"
    }
   ],
   "source": [
    "a.pop(102)#102 is the key we can delete "
   ]
  },
  {
   "cell_type": "code",
   "execution_count": 1,
   "metadata": {},
   "outputs": [],
   "source": [
    "a={100: 'ICC', 101: 'B', 102: 'C', 0: 'x', 9999: {'House': 'BTM', 'HOME': 'BLS', 'PIN': 756001}, 777: {'COUNTRY': ['USA', 'INDIA'], 'PASSPORT': ['INDIAN', 'ISRAL'], 'RESIDENCE': ('USA', 'ppp')}}\n"
   ]
  },
  {
   "cell_type": "code",
   "execution_count": 52,
   "metadata": {},
   "outputs": [
    {
     "data": {
      "text/plain": [
       "(777,\n",
       " {'COUNTRY': ['USA', 'INDIA'],\n",
       "  'PASSPORT': ['INDIAN', 'ISRAL'],\n",
       "  'RESIDENCE': ('USA', 'ppp')})"
      ]
     },
     "execution_count": 52,
     "metadata": {},
     "output_type": "execute_result"
    }
   ],
   "source": [
    "a.popitem()#last element can delete "
   ]
  },
  {
   "cell_type": "code",
   "execution_count": 55,
   "metadata": {},
   "outputs": [
    {
     "data": {
      "text/plain": [
       "'ICC'"
      ]
     },
     "execution_count": 55,
     "metadata": {},
     "output_type": "execute_result"
    }
   ],
   "source": [
    "a.pop(100)#by the help of key in the dict "
   ]
  },
  {
   "cell_type": "code",
   "execution_count": 3,
   "metadata": {},
   "outputs": [
    {
     "name": "stdout",
     "output_type": "stream",
     "text": [
      "Dictionary: {'A': 'Geeks', 'B': 'For', 'C': 'Geeks'}\n",
      "Third_value: Geeks\n"
     ]
    }
   ],
   "source": [
    "# Dictionary with single item  \n",
    "Dictionary1 = { 'A': 'Geeks', 'B': 'For', 'C': 'Geeks'} \n",
    "  \n",
    "# using setdefault() method \n",
    "Third_value = Dictionary1.setdefault('C') \n",
    "print(\"Dictionary:\", Dictionary1) \n",
    "print(\"Third_value:\", Third_value)"
   ]
  },
  {
   "cell_type": "code",
   "execution_count": null,
   "metadata": {},
   "outputs": [],
   "source": [
    ">copy()\tThey copy() method returns a shallow copy of the dictionary.\n",
    ">clear()\tThe clear() method removes all items from the dictionary.\n",
    ">pop()\tRemoves and returns an element from a dictionary having the given key.\n",
    ">popitem()\tRemoves the arbitrary key-value pair from the dictionary and returns it as tuple.\n",
    ">get()\tIt is a conventional method to access a value for a key.\n",
    ">dictionary_name.values()\treturns a list of all the values available in a given dictionary\n",
    ">"
   ]
  }
 ],
 "metadata": {
  "kernelspec": {
   "display_name": "Python 3",
   "language": "python",
   "name": "python3"
  },
  "language_info": {
   "codemirror_mode": {
    "name": "ipython",
    "version": 3
   },
   "file_extension": ".py",
   "mimetype": "text/x-python",
   "name": "python",
   "nbconvert_exporter": "python",
   "pygments_lexer": "ipython3",
   "version": "3.7.6"
  }
 },
 "nbformat": 4,
 "nbformat_minor": 4
}
